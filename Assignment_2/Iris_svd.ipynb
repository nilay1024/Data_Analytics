{
 "cells": [
  {
   "cell_type": "code",
   "execution_count": 2,
   "metadata": {},
   "outputs": [],
   "source": [
    "import pandas as pd\n",
    "import matplotlib.pyplot as plt\n",
    "from scipy.linalg import svd\n",
    "from numpy import array\n",
    "import random\n",
    "df = pd.read_csv(\"iris.csv\")"
   ]
  },
  {
   "cell_type": "code",
   "execution_count": 3,
   "metadata": {},
   "outputs": [
    {
     "name": "stdout",
     "output_type": "stream",
     "text": [
      "0    5.1\n",
      "1    4.9\n",
      "2    4.7\n",
      "3    4.6\n",
      "4    5.0\n",
      "5    5.4\n",
      "6    4.6\n",
      "Name: SepalLengthCm, dtype: float64\n"
     ]
    }
   ],
   "source": [
    "print(df[\"SepalLengthCm\"][0:7])\n",
    "    "
   ]
  },
  {
   "cell_type": "code",
   "execution_count": 4,
   "metadata": {},
   "outputs": [
    {
     "name": "stdout",
     "output_type": "stream",
     "text": [
      "[[6.1, 7.1, 4.4, 6.8, 6.7, 5.5, 6.4, 6.6], [2.9, 3.0, 2.9, 2.8, 3.0, 2.4, 3.2, 2.9], [4.7, 5.9, 1.4, 4.8, 5.0, 3.8, 5.3, 4.6], [1.4, 2.1, 0.2, 1.4, 1.7, 1.1, 2.3, 1.3]]\n"
     ]
    }
   ],
   "source": [
    "# taking basic sample of first 7 instances of the dataset\n",
    "se = set()\n",
    "while(len(se) < 8):\n",
    "    se.add(random.randint(1,151))\n",
    "sl = []\n",
    "sw = []\n",
    "pl = []\n",
    "pw = []\n",
    "for i in se:\n",
    "    sl.append(df[\"SepalLengthCm\"][i-1])\n",
    "    sw.append(df[\"SepalWidthCm\"][i-1])\n",
    "    pl.append(df[\"PetalLengthCm\"][i-1])\n",
    "    pw.append(df[\"PetalWidthCm\"][i-1])\n",
    "    \n",
    "l = [sl,sw,pl,pw]\n",
    "print(l)"
   ]
  },
  {
   "cell_type": "code",
   "execution_count": 5,
   "metadata": {},
   "outputs": [],
   "source": [
    "# 0 : Iris-setosa\n",
    "# 1 : Iris-versicolor\n",
    "# 2 : Iris-virginica\n",
    "x = []\n",
    "for i in se:\n",
    "    if(df[\"Species\"][i] == \"Iris-setosa\"):\n",
    "        x.append(0)\n",
    "    elif(df[\"Species\"][i] == \"Iris-versicolor\"):\n",
    "        x.append(1)\n",
    "    else:\n",
    "        x.append(2)\n",
    "l.append(x)"
   ]
  },
  {
   "cell_type": "code",
   "execution_count": 6,
   "metadata": {},
   "outputs": [
    {
     "name": "stdout",
     "output_type": "stream",
     "text": [
      "[[6.1, 7.1, 4.4, 6.8, 6.7, 5.5, 6.4, 6.6], [2.9, 3.0, 2.9, 2.8, 3.0, 2.4, 3.2, 2.9], [4.7, 5.9, 1.4, 4.8, 5.0, 3.8, 5.3, 4.6], [1.4, 2.1, 0.2, 1.4, 1.7, 1.1, 2.3, 1.3], [1, 2, 0, 1, 1, 1, 2, 1]]\n"
     ]
    }
   ],
   "source": [
    "print(l)"
   ]
  },
  {
   "cell_type": "code",
   "execution_count": 7,
   "metadata": {},
   "outputs": [
    {
     "name": "stdout",
     "output_type": "stream",
     "text": [
      "[[6.1 7.1 4.4 6.8 6.7 5.5 6.4 6.6]\n",
      " [2.9 3.  2.9 2.8 3.  2.4 3.2 2.9]\n",
      " [4.7 5.9 1.4 4.8 5.  3.8 5.3 4.6]\n",
      " [1.4 2.1 0.2 1.4 1.7 1.1 2.3 1.3]\n",
      " [1.  2.  0.  1.  1.  1.  2.  1. ]]\n"
     ]
    }
   ],
   "source": [
    "U,s,VT = svd(array(l))\n",
    "print(array(l))"
   ]
  },
  {
   "cell_type": "code",
   "execution_count": 8,
   "metadata": {},
   "outputs": [
    {
     "name": "stdout",
     "output_type": "stream",
     "text": [
      "[[ 0.73609977  0.37678544  0.24576693  0.37414681 -0.34029787]\n",
      " [ 0.3370179   0.45511781 -0.64062867 -0.37207846  0.36116375]\n",
      " [ 0.54112708 -0.55266439  0.32716783 -0.33304864  0.42869962]\n",
      " [ 0.17841809 -0.39037666 -0.37810968 -0.37365714 -0.73019618]\n",
      " [ 0.14115428 -0.43939577 -0.52838226  0.68631679  0.19180271]]\n",
      "[23.99272101  2.49914255  0.94380607  0.39695271  0.21280018]\n",
      "[[ 0.3501811   0.42041911  0.20879051  0.3725079   0.37899089  0.30222036\n",
      "   0.38970734  0.36252215]\n",
      " [ 0.01391961 -0.36763505  0.8506486   0.07913061  0.00938635  0.078294\n",
      "  -0.33530514  0.12703714]\n",
      " [ 0.12853074 -0.10324737 -0.4174964   0.41335249  0.200701    0.1198807\n",
      "  -0.70939436  0.26412814]\n",
      " [-0.50097612  0.41106545  0.06605044  0.16863953 -0.5632795   0.43967009\n",
      "  -0.12103999  0.14833039]\n",
      " [ 0.73296034  0.22038289  0.01975774 -0.35470286 -0.48184746  0.060151\n",
      "  -0.21579035  0.07506955]\n",
      " [-0.05719487 -0.10152859 -0.07773944 -0.53250442  0.36339773  0.73418033\n",
      "  -0.08410164 -0.13661831]\n",
      " [ 0.12169648 -0.66945213 -0.21495375  0.16803765 -0.35191458  0.29221641\n",
      "   0.40499872  0.29887086]\n",
      " [-0.2331739   0.03761107 -0.03871276 -0.46697422  0.10312302 -0.2585003\n",
      "  -0.01204543  0.80439411]]\n"
     ]
    }
   ],
   "source": [
    "print(U)\n",
    "print(s)\n",
    "print(VT)"
   ]
  },
  {
   "cell_type": "code",
   "execution_count": 9,
   "metadata": {},
   "outputs": [
    {
     "name": "stdout",
     "output_type": "stream",
     "text": [
      "[[ 0.73609977  0.37678544  0.24576693  0.37414681 -0.34029787]\n",
      " [ 0.3370179   0.45511781 -0.64062867 -0.37207846  0.36116375]\n",
      " [ 0.54112708 -0.55266439  0.32716783 -0.33304864  0.42869962]\n",
      " [ 0.17841809 -0.39037666 -0.37810968 -0.37365714 -0.73019618]\n",
      " [ 0.14115428 -0.43939577 -0.52838226  0.68631679  0.19180271]]\n"
     ]
    }
   ],
   "source": [
    "print(U)"
   ]
  },
  {
   "cell_type": "code",
   "execution_count": 10,
   "metadata": {},
   "outputs": [
    {
     "name": "stdout",
     "output_type": "stream",
     "text": [
      "[23.99272101  2.49914255  0.94380607  0.39695271  0.21280018]\n"
     ]
    }
   ],
   "source": [
    "print(s)"
   ]
  },
  {
   "cell_type": "code",
   "execution_count": 11,
   "metadata": {},
   "outputs": [
    {
     "name": "stdout",
     "output_type": "stream",
     "text": [
      "0.21280017974901233\n"
     ]
    }
   ],
   "source": [
    "print(s[4])"
   ]
  },
  {
   "cell_type": "code",
   "execution_count": 12,
   "metadata": {},
   "outputs": [
    {
     "name": "stdout",
     "output_type": "stream",
     "text": [
      "[[ 0.3501811   0.42041911  0.20879051  0.3725079   0.37899089  0.30222036\n",
      "   0.38970734  0.36252215]\n",
      " [ 0.01391961 -0.36763505  0.8506486   0.07913061  0.00938635  0.078294\n",
      "  -0.33530514  0.12703714]\n",
      " [ 0.12853074 -0.10324737 -0.4174964   0.41335249  0.200701    0.1198807\n",
      "  -0.70939436  0.26412814]\n",
      " [-0.50097612  0.41106545  0.06605044  0.16863953 -0.5632795   0.43967009\n",
      "  -0.12103999  0.14833039]\n",
      " [ 0.73296034  0.22038289  0.01975774 -0.35470286 -0.48184746  0.060151\n",
      "  -0.21579035  0.07506955]\n",
      " [-0.05719487 -0.10152859 -0.07773944 -0.53250442  0.36339773  0.73418033\n",
      "  -0.08410164 -0.13661831]\n",
      " [ 0.12169648 -0.66945213 -0.21495375  0.16803765 -0.35191458  0.29221641\n",
      "   0.40499872  0.29887086]\n",
      " [-0.2331739   0.03761107 -0.03871276 -0.46697422  0.10312302 -0.2585003\n",
      "  -0.01204543  0.80439411]]\n"
     ]
    }
   ],
   "source": [
    "print(VT)"
   ]
  },
  {
   "cell_type": "code",
   "execution_count": null,
   "metadata": {},
   "outputs": [],
   "source": []
  }
 ],
 "metadata": {
  "kernelspec": {
   "display_name": "Python 3",
   "language": "python",
   "name": "python3"
  },
  "language_info": {
   "codemirror_mode": {
    "name": "ipython",
    "version": 3
   },
   "file_extension": ".py",
   "mimetype": "text/x-python",
   "name": "python",
   "nbconvert_exporter": "python",
   "pygments_lexer": "ipython3",
   "version": "3.7.3"
  }
 },
 "nbformat": 4,
 "nbformat_minor": 2
}
