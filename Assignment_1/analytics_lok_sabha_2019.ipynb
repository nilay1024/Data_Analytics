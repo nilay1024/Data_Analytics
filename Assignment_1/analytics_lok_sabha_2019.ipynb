{
 "cells": [
  {
   "cell_type": "code",
   "execution_count": 1,
   "metadata": {},
   "outputs": [],
   "source": [
    "%matplotlib inline\n",
    "import matplotlib.pyplot as plt \n",
    "import pandas as pd\n",
    "import numpy as np\n",
    "from matplotlib.pyplot import figure"
   ]
  },
  {
   "cell_type": "code",
   "execution_count": 2,
   "metadata": {},
   "outputs": [
    {
     "data": {
      "text/plain": [
       "Sl No               int64\n",
       "Age                 int64\n",
       "Candidate          object\n",
       "Criminal_Case       int64\n",
       "District           object\n",
       "Education          object\n",
       "Year                int64\n",
       "Party              object\n",
       "State              object\n",
       "Winner             object\n",
       "Liabilities_num     int64\n",
       "Assets_num          int64\n",
       "dtype: object"
      ]
     },
     "execution_count": 2,
     "metadata": {},
     "output_type": "execute_result"
    }
   ],
   "source": [
    "ds=pd.read_csv(\"lok_sabha_2019_winners_affidavit.csv\")\n",
    "ds.dtypes"
   ]
  },
  {
   "cell_type": "code",
   "execution_count": 3,
   "metadata": {},
   "outputs": [
    {
     "data": {
      "text/plain": [
       "'Graduate Professional'"
      ]
     },
     "execution_count": 3,
     "metadata": {},
     "output_type": "execute_result"
    }
   ],
   "source": [
    "ds['Education'][0]"
   ]
  },
  {
   "cell_type": "code",
   "execution_count": 4,
   "metadata": {},
   "outputs": [],
   "source": [
    "l = len(ds['Education'])"
   ]
  },
  {
   "cell_type": "code",
   "execution_count": 5,
   "metadata": {},
   "outputs": [],
   "source": [
    "d = dict()\n",
    "for i in range(l):\n",
    "    if ds['Education'][i] not in d:\n",
    "        d[ds['Education'][i]] = 1\n",
    "    else:\n",
    "        d[ds['Education'][i]] += 1"
   ]
  },
  {
   "cell_type": "code",
   "execution_count": 6,
   "metadata": {},
   "outputs": [
    {
     "data": {
      "text/plain": [
       "{'Graduate Professional': 891,\n",
       " 'Graduate': 1436,\n",
       " '12th Pass': 1199,\n",
       " '10th Pass': 1241,\n",
       " '8th Pass': 699,\n",
       " 'Post Graduate': 1327,\n",
       " 'Doctorate': 155,\n",
       " 'Others': 210,\n",
       " 'Illiterate': 163,\n",
       " '5th Pass': 339,\n",
       " 'Literate': 253,\n",
       " 'Not Given': 17}"
      ]
     },
     "execution_count": 6,
     "metadata": {},
     "output_type": "execute_result"
    }
   ],
   "source": [
    "d"
   ]
  },
  {
   "cell_type": "code",
   "execution_count": null,
   "metadata": {},
   "outputs": [],
   "source": [
    "# EDUCATION INFO OF THE CANDIDATES"
   ]
  },
  {
   "cell_type": "code",
   "execution_count": 7,
   "metadata": {},
   "outputs": [
    {
     "data": {
      "image/png": "[encoded data removed]",
      "text/plain": [
       "<Figure size 432x288 with 1 Axes>"
      ]
     },
     "metadata": {
      "needs_background": "light"
     },
     "output_type": "display_data"
    }
   ],
   "source": [
    "# plt.figure(figsize = (20, 20))\n",
    "plt.bar(d.keys(),d.values())\n",
    "plt.xticks(rotation=90)\n",
    "plt.show()\n"
   ]
  },
  {
   "cell_type": "code",
   "execution_count": null,
   "metadata": {},
   "outputs": [],
   "source": [
    "# ELECTION RESULTS IN MAHARASHTRA AND KARNATAKA"
   ]
  },
  {
   "cell_type": "code",
   "execution_count": 8,
   "metadata": {},
   "outputs": [],
   "source": [
    "d1 = dict()\n",
    "for i in range(l):\n",
    "    if (ds['State'][i] == 'MAHARASHTRA') and (ds['Winner'][i] == 'Yes'):\n",
    "        if ds['Party'][i] not in d1:\n",
    "            d1[ds['Party'][i]] = 1\n",
    "        else:\n",
    "            d1[ds['Party'][i]] += 1"
   ]
  },
  {
   "cell_type": "code",
   "execution_count": 9,
   "metadata": {},
   "outputs": [
    {
     "data": {
      "text/plain": [
       "{'BJP': 23, 'SHS': 18, 'NCP': 4, 'INC': 1, 'AIMIM': 1, 'IND': 1}"
      ]
     },
     "execution_count": 9,
     "metadata": {},
     "output_type": "execute_result"
    }
   ],
   "source": [
    "d1"
   ]
  },
  {
   "cell_type": "code",
   "execution_count": 10,
   "metadata": {},
   "outputs": [
    {
     "data": {
      "text/plain": [
       "([<matplotlib.patches.Wedge at 0x11d327400>,\n",
       "  <matplotlib.patches.Wedge at 0x11d327b00>,\n",
       "  <matplotlib.patches.Wedge at 0x11d334208>,\n",
       "  <matplotlib.patches.Wedge at 0x11d3348d0>,\n",
       "  <matplotlib.patches.Wedge at 0x11d334f98>,\n",
       "  <matplotlib.patches.Wedge at 0x11d3406a0>],\n",
       " [Text(0.07194347640946547, 1.0976448133171863, 'BJP'),\n",
       "  Text(-0.5500000594609761, -0.9526279098330696, 'SHS'),\n",
       "  Text(0.872688637747694, -0.6696376195720146, 'NCP'),\n",
       "  Text(1.0416231265818658, -0.3535834585636303, 'INC'),\n",
       "  Text(1.078863799653197, -0.2145993984098436, 'AIMIM'),\n",
       "  Text(1.0976448128961966, -0.07194348283252362, 'IND')],\n",
       " [Text(0.03924189622334479, 0.5987153527184652, '47.9%'),\n",
       "  Text(-0.3000000324332597, -0.5196152235453106, '37.5%'),\n",
       "  Text(0.4760119842260149, -0.36525688340291707, '8.3%'),\n",
       "  Text(0.568158069044654, -0.19286370467107106, '2.1%'),\n",
       "  Text(0.5884711634471982, -0.11705421731446013, '2.1%'),\n",
       "  Text(0.5987153524888345, -0.03924189972683106, '2.1%')])"
      ]
     },
     "execution_count": 10,
     "metadata": {},
     "output_type": "execute_result"
    },
    {
     "data": {
      "image/png": "[encoded data removed]",
      "text/plain": [
       "<Figure size 432x288 with 1 Axes>"
      ]
     },
     "metadata": {},
     "output_type": "display_data"
    }
   ],
   "source": [
    "plt.pie(d1.values(), labels = d1.keys(), autopct = '%1.1f%%')"
   ]
  },
  {
   "cell_type": "code",
   "execution_count": 16,
   "metadata": {},
   "outputs": [
    {
     "name": "stdout",
     "output_type": "stream",
     "text": [
      "{'BJP': 25, 'IND': 1, 'JD(S)': 1, 'INC': 1}\n"
     ]
    },
    {
     "data": {
      "text/plain": [
       "([<matplotlib.patches.Wedge at 0x11dd05be0>,\n",
       "  <matplotlib.patches.Wedge at 0x11dd0f358>,\n",
       "  <matplotlib.patches.Wedge at 0x11dd0fa20>,\n",
       "  <matplotlib.patches.Wedge at 0x11dd19128>],\n",
       " [Text(-1.0382716536205603, 0.36330699592497184, 'BJP'),\n",
       "  Text(0.9313965907758118, -0.5852353293259005, 'IND'),\n",
       "  Text(1.0382716493686532, -0.36330700807622274, 'JD(S)'),\n",
       "  Text(1.0930834273820365, -0.1231609547817026, 'INC')],\n",
       " [Text(-0.5663299928839419, 0.19816745232271188, '89.3%'),\n",
       "  Text(0.5080345040595337, -0.3192192705414002, '3.6%'),\n",
       "  Text(0.5663299905647199, -0.19816745895066692, '3.6%'),\n",
       "  Text(0.5962273240265652, -0.06717870260820141, '3.6%')])"
      ]
     },
     "execution_count": 16,
     "metadata": {},
     "output_type": "execute_result"
    },
    {
     "data": {
      "image/png": "[encoded data removed]",
      "text/plain": [
       "<Figure size 432x288 with 1 Axes>"
      ]
     },
     "metadata": {},
     "output_type": "display_data"
    }
   ],
   "source": [
    "d1 = dict()\n",
    "for i in range(l):\n",
    "    if (ds['State'][i] == 'KARNATAKA') and (ds['Winner'][i] == 'Yes'):\n",
    "        if ds['Party'][i] not in d1:\n",
    "            d1[ds['Party'][i]] = 1\n",
    "        else:\n",
    "            d1[ds['Party'][i]] += 1\n",
    "print(d1)\n",
    "plt.pie(d1.values(), labels = d1.keys(), autopct = '%1.1f%%')"
   ]
  },
  {
   "cell_type": "code",
   "execution_count": null,
   "metadata": {},
   "outputs": [],
   "source": [
    "# RECORDED CRIMINAL CASES (NUMBER) AGAINST CANDIDATES"
   ]
  },
  {
   "cell_type": "code",
   "execution_count": 11,
   "metadata": {},
   "outputs": [
    {
     "data": {
      "image/png": "[encoded data removed]",
      "text/plain": [
       "<Figure size 432x288 with 1 Axes>"
      ]
     },
     "metadata": {},
     "output_type": "display_data"
    }
   ],
   "source": [
    "df1 = pd.read_csv('lok_sabha_2019_winners_affidavit.csv')\n",
    "list=[]\n",
    "list.append(df1.Criminal_Case)\n",
    "list1=[]\n",
    "for j in df1['Criminal_Case']:\n",
    "    if(j!=0):\n",
    "        list1.append(j)\n",
    "labels = '1', '2', '3', 'More than 3'\n",
    "sizes = [list1.count(1), list1.count(2), list1.count(3), len(list1)-(list1.count(1)+list1.count(2)+list1.count(3))]\n",
    "colors = ['gold', 'yellowgreen', 'lightcoral', 'lightskyblue']\n",
    "\n",
    "plt.pie(sizes,labels=labels, colors=colors,\n",
    "autopct='%1.1f%%', shadow=True, startangle=140)\n",
    "\n",
    "plt.axis('equal')\n",
    "plt.show()"
   ]
  },
  {
   "cell_type": "code",
   "execution_count": 15,
   "metadata": {},
   "outputs": [
    {
     "data": {
      "image/png": "[encoded data removed]",
      "text/plain": [
       "<Figure size 432x288 with 1 Axes>"
      ]
     },
     "metadata": {
      "needs_background": "light"
     },
     "output_type": "display_data"
    }
   ],
   "source": [
    "list2=[]\n",
    "for j in df1['Age']:\n",
    "    list2.append(j)\n",
    "len(list2)\n",
    "num_bins = 20\n",
    "n, bins, patches = plt.hist(list2, num_bins, facecolor='brown', alpha=0.9)\n",
    "plt.xlabel('Age')\n",
    "plt.ylabel('No of Candidates')\n",
    "plt.title(r'Histogram reprenting age ')\n",
    "\n",
    "plt.show()"
   ]
  },
  {
   "cell_type": "code",
   "execution_count": null,
   "metadata": {},
   "outputs": [],
   "source": []
  }
 ],
 "metadata": {
  "kernelspec": {
   "display_name": "Python 3",
   "language": "python",
   "name": "python3"
  },
  "language_info": {
   "codemirror_mode": {
    "name": "ipython",
    "version": 3
   },
   "file_extension": ".py",
   "mimetype": "text/x-python",
   "name": "python",
   "nbconvert_exporter": "python",
   "pygments_lexer": "ipython3",
   "version": "3.7.3"
  }
 },
 "nbformat": 4,
 "nbformat_minor": 2
}
